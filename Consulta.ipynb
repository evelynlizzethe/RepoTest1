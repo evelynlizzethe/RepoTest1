{
  "cells": [
    {
      "cell_type": "markdown",
      "metadata": {
        "id": "view-in-github",
        "colab_type": "text"
      },
      "source": [
        "<a href=\"https://colab.research.google.com/github/evelynlizzethe/RepoTest1/blob/main/Consulta.ipynb\" target=\"_parent\"><img src=\"https://colab.research.google.com/assets/colab-badge.svg\" alt=\"Open In Colab\"/></a>"
      ]
    },
    {
      "cell_type": "markdown",
      "source": [
        "class Vehiculo:\n",
        "    def __init__(self, marca, modelo):\n",
        "        self.marca = marca\n",
        "        self.modelo = modelo\n",
        "\n",
        "    def descripcion(self):\n",
        "        return f\"Vehículo {self.marca} modelo {self.modelo}\"\n",
        "\n",
        "class Auto(Vehiculo):\n",
        "    def descripcion(self):\n",
        "        return f\"Auto {self.marca} modelo {self.modelo} con 4 ruedas\"\n",
        "\n",
        "class Moto(Vehiculo):\n",
        "    def descripcion(self):\n",
        "        return f\"Moto {self.marca} modelo {self.modelo} con 2 ruedas\"\n",
        "\n",
        "## Polimorfismo\n",
        "vehiculos = [\n",
        "    Auto(\"Toyota\", \"Corolla\"),\n",
        "    Moto(\"Yamaha\", \"FZ\")\n",
        "]\n",
        "\n",
        "for v in vehiculos:\n",
        "    print(v.descripcion())\n",
        "\n"
      ],
      "metadata": {
        "id": "ebyPrNPsEJCp"
      }
    }
  ],
  "metadata": {
    "colab": {
      "name": "Te damos la bienvenida a Colaboratory",
      "toc_visible": true,
      "provenance": [],
      "include_colab_link": true
    },
    "kernelspec": {
      "display_name": "Python 3",
      "name": "python3"
    }
  },
  "nbformat": 4,
  "nbformat_minor": 0
}